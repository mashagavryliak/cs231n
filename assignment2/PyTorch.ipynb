{
 "cells": [
  {
   "cell_type": "markdown",
   "metadata": {},
   "source": [
    "# Training a ConvNet PyTorch\n",
    "\n",
    "In this notebook, you'll learn how to use the powerful PyTorch framework to specify a conv net architecture and train it on the CIFAR-10 dataset."
   ]
  },
  {
   "cell_type": "code",
   "execution_count": 1,
   "metadata": {
    "collapsed": false
   },
   "outputs": [],
   "source": [
    "import torch\n",
    "import torch.nn as nn\n",
    "import torch.optim as optim\n",
    "from torch.autograd import Variable\n",
    "from torch.utils.data import DataLoader\n",
    "from torch.utils.data import sampler\n",
    "\n",
    "import torchvision.datasets as dset\n",
    "import torchvision.transforms as T\n",
    "\n",
    "import numpy as np\n",
    "\n",
    "import timeit"
   ]
  },
  {
   "cell_type": "markdown",
   "metadata": {},
   "source": [
    "## What's this PyTorch business?\n",
    "\n",
    "You've written a lot of code in this assignment to provide a whole host of neural network functionality. Dropout, Batch Norm, and 2D convolutions are some of the workhorses of deep learning in computer vision. You've also worked hard to make your code efficient and vectorized.\n",
    "\n",
    "For the last part of this assignment, though, we're going to leave behind your beautiful codebase and instead migrate to one of two popular deep learning frameworks: in this instance, PyTorch (or TensorFlow, if you switch over to that notebook). \n",
    "\n",
    "Why?\n",
    "\n",
    "* Our code will now run on GPUs! Much faster training. When using a framework like PyTorch or TensorFlow you can harness the power of the GPU for your own custom neural network architectures without having to write CUDA code directly (which is beyond the scope of this class).\n",
    "* We want you to be ready to use one of these frameworks for your project so you can experiment more efficiently than if you were writing every feature you want to use by hand. \n",
    "* We want you to stand on the shoulders of giants! TensorFlow and PyTorch are both excellent frameworks that will make your lives a lot easier, and now that you understand their guts, you are free to use them :) \n",
    "* We want you to be exposed to the sort of deep learning code you might run into in academia or industry. "
   ]
  },
  {
   "cell_type": "markdown",
   "metadata": {},
   "source": [
    "## How will I learn PyTorch?\n",
    "\n",
    "If you've used Torch before, but are new to PyTorch, this tutorial might be of use: http://pytorch.org/tutorials/beginner/former_torchies_tutorial.html\n",
    "\n",
    "Otherwise, this notebook will walk you through much of what you need to do to train models in Torch. See the end of the notebook for some links to helpful tutorials if you want to learn more or need further clarification on topics that aren't fully explained here."
   ]
  },
  {
   "cell_type": "markdown",
   "metadata": {},
   "source": [
    "## Load Datasets\n",
    "\n",
    "We load the CIFAR-10 dataset. This might take a couple minutes the first time you do it, but the files should stay cached after that."
   ]
  },
  {
   "cell_type": "code",
   "execution_count": 2,
   "metadata": {
    "collapsed": false
   },
   "outputs": [
    {
     "name": "stdout",
     "output_type": "stream",
     "text": [
      "Files already downloaded and verified\n",
      "Files already downloaded and verified\n",
      "Files already downloaded and verified\n"
     ]
    }
   ],
   "source": [
    "class ChunkSampler(sampler.Sampler):\n",
    "    \"\"\"Samples elements sequentially from some offset. \n",
    "    Arguments:\n",
    "        num_samples: # of desired datapoints\n",
    "        start: offset where we should start selecting from\n",
    "    \"\"\"\n",
    "    def __init__(self, num_samples, start = 0):\n",
    "        self.num_samples = num_samples\n",
    "        self.start = start\n",
    "\n",
    "    def __iter__(self):\n",
    "        return iter(range(self.start, self.start + self.num_samples))\n",
    "\n",
    "    def __len__(self):\n",
    "        return self.num_samples\n",
    "\n",
    "NUM_TRAIN = 49000\n",
    "NUM_VAL = 1000\n",
    "\n",
    "cifar10_train = dset.CIFAR10('./cs231n/datasets', train=True, download=True,\n",
    "                           transform=T.ToTensor())\n",
    "loader_train = DataLoader(cifar10_train, batch_size=64, sampler=ChunkSampler(NUM_TRAIN, 0))\n",
    "\n",
    "cifar10_val = dset.CIFAR10('./cs231n/datasets', train=True, download=True,\n",
    "                           transform=T.ToTensor())\n",
    "loader_val = DataLoader(cifar10_val, batch_size=64, sampler=ChunkSampler(NUM_VAL, NUM_TRAIN))\n",
    "\n",
    "cifar10_test = dset.CIFAR10('./cs231n/datasets', train=False, download=True,\n",
    "                          transform=T.ToTensor())\n",
    "loader_test = DataLoader(cifar10_test, batch_size=64)\n"
   ]
  },
  {
   "cell_type": "markdown",
   "metadata": {},
   "source": [
    "For now, we're going to use a CPU-friendly datatype. Later, we'll switch to a datatype that will move all our computations to the GPU and measure the speedup."
   ]
  },
  {
   "cell_type": "code",
   "execution_count": 3,
   "metadata": {
    "collapsed": true
   },
   "outputs": [],
   "source": [
    "dtype = torch.FloatTensor # the CPU datatype\n",
    "\n",
    "# Constant to control how frequently we print train loss\n",
    "print_every = 100\n",
    "\n",
    "# This is a little utility that we'll use to reset the model\n",
    "# if we want to re-initialize all our parameters\n",
    "def reset(m):\n",
    "    if hasattr(m, 'reset_parameters'):\n",
    "        m.reset_parameters()"
   ]
  },
  {
   "cell_type": "markdown",
   "metadata": {},
   "source": [
    "## Example Model\n",
    "\n",
    "### Some assorted tidbits\n",
    "\n",
    "Let's start by looking at a simple model. First, note that PyTorch operates on Tensors, which are n-dimensional arrays functionally analogous to numpy's ndarrays, with the additional feature that they can be used for computations on GPUs.\n",
    "\n",
    "We'll provide you with a Flatten function, which we explain here. Remember that our image data (and more relevantly, our intermediate feature maps) are initially N x C x H x W, where:\n",
    "* N is the number of datapoints\n",
    "* C is the number of channels\n",
    "* H is the height of the intermediate feature map in pixels\n",
    "* W is the height of the intermediate feature map in pixels\n",
    "\n",
    "This is the right way to represent the data when we are doing something like a 2D convolution, that needs spatial understanding of where the intermediate features are relative to each other. When we input  data into fully connected affine layers, however, we want each datapoint to be represented by a single vector -- it's no longer useful to segregate the different channels, rows, and columns of the data. So, we use a \"Flatten\" operation to collapse the C x H x W values per representation into a single long vector. The Flatten function below first reads in the N, C, H, and W values from a given batch of data, and then returns a \"view\" of that data. \"View\" is analogous to numpy's \"reshape\" method: it reshapes x's dimensions to be N x ??, where ?? is allowed to be anything (in this case, it will be C x H x W, but we don't need to specify that explicitly). "
   ]
  },
  {
   "cell_type": "code",
   "execution_count": 4,
   "metadata": {
    "collapsed": true
   },
   "outputs": [],
   "source": [
    "class Flatten(nn.Module):\n",
    "    def forward(self, x):\n",
    "        N, C, H, W = x.size() # read in N, C, H, W\n",
    "        return x.view(N, -1)  # \"flatten\" the C * H * W values into a single vector per image"
   ]
  },
  {
   "cell_type": "markdown",
   "metadata": {},
   "source": [
    "### The example model itself\n",
    "\n",
    "The first step to training your own model is defining its architecture.\n",
    "\n",
    "Here's an example of a convolutional neural network defined in PyTorch -- try to understand what each line is doing, remembering that each layer is composed upon the previous layer. We haven't trained anything yet - that'll come next - for now, we want you to understand how everything gets set up.  nn.Sequential is a container which applies each layer\n",
    "one after the other.\n",
    "\n",
    "In that example, you see 2D convolutional layers (Conv2d), ReLU activations, and fully-connected layers (Linear). You also see the Cross-Entropy loss function, and the Adam optimizer being used. \n",
    "\n",
    "Make sure you understand why the parameters of the Linear layer are 5408 and 10.\n"
   ]
  },
  {
   "cell_type": "code",
   "execution_count": 5,
   "metadata": {
    "collapsed": false
   },
   "outputs": [],
   "source": [
    "# Here's where we define the architecture of the model... \n",
    "simple_model = nn.Sequential(\n",
    "                nn.Conv2d(3, 32, kernel_size=7, stride=2),\n",
    "                nn.ReLU(inplace=True),\n",
    "                Flatten(), # see above for explanation\n",
    "                nn.Linear(5408, 10), # affine layer\n",
    "              )\n",
    "\n",
    "# Set the type of all data in this model to be FloatTensor \n",
    "simple_model.type(dtype)\n",
    "\n",
    "loss_fn = nn.CrossEntropyLoss().type(dtype)\n",
    "optimizer = optim.Adam(simple_model.parameters(), lr=1e-2) # lr sets the learning rate of the optimizer"
   ]
  },
  {
   "cell_type": "markdown",
   "metadata": {},
   "source": [
    "PyTorch supports many other layer types, loss functions, and optimizers - you will experiment with these next. Here's the official API documentation for these (if any of the parameters used above were unclear, this resource will also be helpful). One note: what we call in the class \"spatial batch norm\" is called \"BatchNorm2D\" in PyTorch.\n",
    "\n",
    "* Layers: http://pytorch.org/docs/nn.html\n",
    "* Activations: http://pytorch.org/docs/nn.html#non-linear-activations\n",
    "* Loss functions: http://pytorch.org/docs/nn.html#loss-functions\n",
    "* Optimizers: http://pytorch.org/docs/optim.html#algorithms"
   ]
  },
  {
   "cell_type": "markdown",
   "metadata": {},
   "source": [
    "## Training a specific model\n",
    "\n",
    "In this section, we're going to specify a model for you to construct. The goal here isn't to get good performance (that'll be next), but instead to get comfortable with understanding the PyTorch documentation and configuring your own model. \n",
    "\n",
    "Using the code provided above as guidance, and using the following PyTorch documentation, specify a model with the following architecture:\n",
    "\n",
    "* 7x7 Convolutional Layer with 32 filters and stride of 1\n",
    "* ReLU Activation Layer\n",
    "* Spatial Batch Normalization Layer\n",
    "* 2x2 Max Pooling layer with a stride of 2\n",
    "* Affine layer with 1024 output units\n",
    "* ReLU Activation Layer\n",
    "* Affine layer from 1024 input units to 10 outputs\n",
    "\n",
    "And finally, set up a **cross-entropy** loss function and the **RMSprop** learning rule."
   ]
  },
  {
   "cell_type": "code",
   "execution_count": 21,
   "metadata": {
    "collapsed": false
   },
   "outputs": [],
   "source": [
    "fixed_model_base = nn.Sequential( # You fill this in!\n",
    "    nn.Conv2d(3, 32, kernel_size=7, stride=1),\n",
    "    nn.ReLU(inplace=True),\n",
    "    nn.BatchNorm2d(32),\n",
    "    torch.nn.MaxPool2d(2, 2),\n",
    "    Flatten(),\n",
    "    nn.Linear(5408, 1024),\n",
    "    nn.ReLU(inplace=True),\n",
    "    nn.Linear(1024, 10)\n",
    "            )\n",
    "\n",
    "fixed_model = fixed_model_base.type(dtype)"
   ]
  },
  {
   "cell_type": "markdown",
   "metadata": {},
   "source": [
    "To make sure you're doing the right thing, use the following tool to check the dimensionality of your output (it should be 64 x 10, since our batches have size 64 and the output of the final affine layer should be 10, corresponding to our 10 classes):"
   ]
  },
  {
   "cell_type": "code",
   "execution_count": 22,
   "metadata": {
    "collapsed": false
   },
   "outputs": [
    {
     "data": {
      "text/plain": [
       "True"
      ]
     },
     "execution_count": 22,
     "metadata": {},
     "output_type": "execute_result"
    }
   ],
   "source": [
    "## Now we're going to feed a random batch into the model you defined and make sure the output is the right size\n",
    "x = torch.randn(64, 3, 32, 32).type(dtype)\n",
    "x_var = Variable(x.type(dtype)) # Construct a PyTorch Variable out of your input data\n",
    "ans = fixed_model(x_var)        # Feed it through the model! \n",
    "\n",
    "# Check to make sure what comes out of your model\n",
    "# is the right dimensionality... this should be True\n",
    "# if you've done everything correctly\n",
    "np.array_equal(np.array(ans.size()), np.array([64, 10]))       "
   ]
  },
  {
   "cell_type": "markdown",
   "metadata": {},
   "source": [
    "### GPU!\n",
    "\n",
    "Now, we're going to switch the dtype of the model and our data to the GPU-friendly tensors, and see what happens... everything is the same, except we are casting our model and input tensors as this new dtype instead of the old one.\n",
    "\n",
    "If this returns false, or otherwise fails in a not-graceful way (i.e., with some error message), you may not have an NVIDIA GPU available on your machine. If you're running locally, we recommend you switch to Google Cloud and follow the instructions to set up a GPU there. If you're already on Google Cloud, something is wrong -- make sure you followed the instructions on how to request and use a GPU on your instance. If you did, post on Piazza or come to Office Hours so we can help you debug."
   ]
  },
  {
   "cell_type": "code",
   "execution_count": null,
   "metadata": {
    "collapsed": false
   },
   "outputs": [],
   "source": [
    "# Verify that CUDA is properly configured and you have a GPU available\n",
    "\n",
    "torch.cuda.is_available()"
   ]
  },
  {
   "cell_type": "code",
   "execution_count": null,
   "metadata": {
    "collapsed": false
   },
   "outputs": [],
   "source": [
    "import copy\n",
    "gpu_dtype = torch.cuda.FloatTensor\n",
    "\n",
    "fixed_model_gpu = copy.deepcopy(fixed_model_base).type(gpu_dtype)\n",
    "\n",
    "x_gpu = torch.randn(64, 3, 32, 32).type(gpu_dtype)\n",
    "x_var_gpu = Variable(x.type(gpu_dtype)) # Construct a PyTorch Variable out of your input data\n",
    "ans = fixed_model_gpu(x_var_gpu)        # Feed it through the model! \n",
    "\n",
    "# Check to make sure what comes out of your model\n",
    "# is the right dimensionality... this should be True\n",
    "# if you've done everything correctly\n",
    "np.array_equal(np.array(ans.size()), np.array([64, 10]))"
   ]
  },
  {
   "cell_type": "markdown",
   "metadata": {},
   "source": [
    "Run the following cell to evaluate the performance of the forward pass running on the CPU:"
   ]
  },
  {
   "cell_type": "code",
   "execution_count": 23,
   "metadata": {
    "collapsed": false
   },
   "outputs": [
    {
     "name": "stdout",
     "output_type": "stream",
     "text": [
      "10 loops, best of 3: 64.1 ms per loop\n"
     ]
    }
   ],
   "source": [
    "%%timeit \n",
    "ans = fixed_model(x_var)"
   ]
  },
  {
   "cell_type": "markdown",
   "metadata": {},
   "source": [
    "... and now the GPU:"
   ]
  },
  {
   "cell_type": "code",
   "execution_count": null,
   "metadata": {
    "collapsed": false
   },
   "outputs": [],
   "source": [
    "%%timeit \n",
    "torch.cuda.synchronize() # Make sure there are no pending GPU computations\n",
    "ans = fixed_model_gpu(x_var_gpu)        # Feed it through the model! \n",
    "torch.cuda.synchronize() # Make sure there are no pending GPU computations"
   ]
  },
  {
   "cell_type": "markdown",
   "metadata": {},
   "source": [
    "You should observe that even a simple forward pass like this is significantly faster on the GPU. So for the rest of the assignment (and when you go train your models in assignment 3 and your project!), you should use the GPU datatype for your model and your tensors: as a reminder that is *torch.cuda.FloatTensor* (in our notebook here as *gpu_dtype*)"
   ]
  },
  {
   "cell_type": "markdown",
   "metadata": {},
   "source": [
    "### Train the model.\n",
    "\n",
    "Now that you've seen how to define a model and do a single forward pass of some data through it, let's  walk through how you'd actually train one whole epoch over your training data (using the simple_model we provided above).\n",
    "\n",
    "Make sure you understand how each PyTorch function used below corresponds to what you implemented in your custom neural network implementation.\n",
    "\n",
    "Note that because we are not resetting the weights anywhere below, if you run the cell multiple times, you are effectively training multiple epochs (so your performance should improve).\n",
    "\n",
    "First, set up an RMSprop optimizer (using a 1e-3 learning rate) and a cross-entropy loss function:"
   ]
  },
  {
   "cell_type": "code",
   "execution_count": 25,
   "metadata": {
    "collapsed": false
   },
   "outputs": [],
   "source": [
    "loss_fn = nn.CrossEntropyLoss()\n",
    "optimizer = optim.RMSprop(fixed_model.parameters(), lr=1e-3)\n",
    "pass\n"
   ]
  },
  {
   "cell_type": "code",
   "execution_count": 28,
   "metadata": {
    "collapsed": false
   },
   "outputs": [
    {
     "name": "stdout",
     "output_type": "stream",
     "text": [
      "t = 100, loss = 1.3474\n",
      "t = 200, loss = 1.4740\n",
      "t = 300, loss = 1.4187\n",
      "t = 400, loss = 1.2403\n",
      "t = 500, loss = 1.1955\n",
      "t = 600, loss = 1.2178\n",
      "t = 700, loss = 1.2613\n"
     ]
    },
    {
     "name": "stderr",
     "output_type": "stream",
     "text": [
      "/Users/mha/Projects/study/Stanford/cs231n/assignment2/.env/lib/python3.6/site-packages/ipykernel/__main__.py:17: UserWarning: invalid index of a 0-dim tensor. This will be an error in PyTorch 0.5. Use tensor.item() to convert a 0-dim tensor to a Python number\n"
     ]
    }
   ],
   "source": [
    "# This sets the model in \"training\" mode. This is relevant for some layers that may have different behavior\n",
    "# in training mode vs testing mode, such as Dropout and BatchNorm. \n",
    "fixed_model.train()\n",
    "\n",
    "# Load one batch at a time.\n",
    "for t, (x, y) in enumerate(loader_train):\n",
    "    x_var = Variable(x.type(dtype))\n",
    "    y_var = Variable(y.type(dtype).long())\n",
    "\n",
    "    # This is the forward pass: predict the scores for each class, for each x in the batch.\n",
    "    scores = fixed_model(x_var)\n",
    "    \n",
    "    # Use the correct y values and the predicted y values to compute the loss.\n",
    "    loss = loss_fn(scores, y_var)\n",
    "    \n",
    "    if (t + 1) % print_every == 0:\n",
    "        print('t = %d, loss = %.4f' % (t + 1, loss.data[0]))\n",
    "\n",
    "    # Zero out all of the gradients for the variables which the optimizer will update.\n",
    "    optimizer.zero_grad()\n",
    "    \n",
    "    # This is the backwards pass: compute the gradient of the loss with respect to each \n",
    "    # parameter of the model.\n",
    "    loss.backward()\n",
    "    \n",
    "    # Actually update the parameters of the model using the gradients computed by the backwards pass.\n",
    "    optimizer.step()"
   ]
  },
  {
   "cell_type": "markdown",
   "metadata": {},
   "source": [
    "Now you've seen how the training process works in PyTorch. To save you writing boilerplate code, we're providing the following helper functions to help you train for multiple epochs and check the accuracy of your model:"
   ]
  },
  {
   "cell_type": "code",
   "execution_count": 30,
   "metadata": {
    "collapsed": true
   },
   "outputs": [],
   "source": [
    "def train(model, loss_fn, optimizer, num_epochs = 1):\n",
    "    for epoch in range(num_epochs):\n",
    "        print('Starting epoch %d / %d' % (epoch + 1, num_epochs))\n",
    "        model.train()\n",
    "        for t, (x, y) in enumerate(loader_train):\n",
    "            x_var = Variable(x.type(dtype))\n",
    "            y_var = Variable(y.type(dtype).long())\n",
    "\n",
    "            scores = model(x_var)\n",
    "            \n",
    "            loss = loss_fn(scores, y_var)\n",
    "            if (t + 1) % print_every == 0:\n",
    "                print('t = %d, loss = %.4f' % (t + 1, loss.data[0]))\n",
    "\n",
    "            optimizer.zero_grad()\n",
    "            loss.backward()\n",
    "            optimizer.step()\n",
    "\n",
    "def check_accuracy(model, loader):\n",
    "    if loader.dataset.train:\n",
    "        print('Checking accuracy on validation set')\n",
    "    else:\n",
    "        print('Checking accuracy on test set')   \n",
    "    num_correct = 0\n",
    "    num_samples = 0\n",
    "    model.eval() # Put the model in test mode (the opposite of model.train(), essentially)\n",
    "    for x, y in loader:\n",
    "        x_var = Variable(x.type(dtype), volatile=True)\n",
    "\n",
    "        scores = model(x_var)\n",
    "        _, preds = scores.data.cpu().max(1)\n",
    "        num_correct += (preds == y).sum()\n",
    "        num_samples += preds.size(0)\n",
    "    acc = float(num_correct) / num_samples\n",
    "    print('Got %d / %d correct (%.2f)' % (num_correct, num_samples, 100 * acc))"
   ]
  },
  {
   "cell_type": "markdown",
   "metadata": {},
   "source": [
    "### Check the accuracy of the model.\n",
    "\n",
    "Let's see the train and check_accuracy code in action -- feel free to use these methods when evaluating the models you develop below.\n",
    "\n",
    "You should get a training loss of around 1.2-1.4, and a validation accuracy of around 50-60%. As mentioned above, if you re-run the cells, you'll be training more epochs, so your performance will improve past these numbers.\n",
    "\n",
    "But don't worry about getting these numbers better -- this was just practice before you tackle designing your own model."
   ]
  },
  {
   "cell_type": "code",
   "execution_count": 32,
   "metadata": {
    "collapsed": false
   },
   "outputs": [
    {
     "name": "stdout",
     "output_type": "stream",
     "text": [
      "Starting epoch 1 / 1\n",
      "t = 100, loss = 1.4415\n",
      "t = 200, loss = 1.5199\n",
      "t = 300, loss = 1.3786\n",
      "t = 400, loss = 1.3432\n",
      "t = 500, loss = 1.1319\n",
      "t = 600, loss = 1.2224\n",
      "t = 700, loss = 1.3425\n",
      "Checking accuracy on validation set"
     ]
    },
    {
     "name": "stderr",
     "output_type": "stream",
     "text": [
      "/Users/mha/Projects/study/Stanford/cs231n/assignment2/.env/lib/python3.6/site-packages/ipykernel/__main__.py:13: UserWarning: invalid index of a 0-dim tensor. This will be an error in PyTorch 0.5. Use tensor.item() to convert a 0-dim tensor to a Python number\n",
      "/Users/mha/Projects/study/Stanford/cs231n/assignment2/.env/lib/python3.6/site-packages/ipykernel/__main__.py:28: UserWarning: volatile was removed and now has no effect. Use `with torch.no_grad():` instead.\n"
     ]
    },
    {
     "name": "stdout",
     "output_type": "stream",
     "text": [
      "\n",
      "Got 576 / 1000 correct (57.60)\n"
     ]
    }
   ],
   "source": [
    "torch.cuda.random.manual_seed(12345)\n",
    "fixed_model.apply(reset)\n",
    "train(fixed_model, loss_fn, optimizer, num_epochs=1)\n",
    "check_accuracy(fixed_model, loader_val)"
   ]
  },
  {
   "cell_type": "markdown",
   "metadata": {},
   "source": [
    "### Don't forget the validation set!\n",
    "\n",
    "And note that you can use the check_accuracy function to evaluate on either the test set or the validation set, by passing either **loader_test** or **loader_val** as the second argument to check_accuracy. You should not touch the test set until you have finished your architecture and hyperparameter tuning, and only run the test set once at the end to report a final value. "
   ]
  },
  {
   "cell_type": "markdown",
   "metadata": {},
   "source": [
    "## Train a _great_ model on CIFAR-10!\n",
    "\n",
    "Now it's your job to experiment with architectures, hyperparameters, loss functions, and optimizers to train a model that achieves **>=70%** accuracy on the CIFAR-10 **validation** set. You can use the check_accuracy and train functions from above."
   ]
  },
  {
   "cell_type": "markdown",
   "metadata": {},
   "source": [
    "### Things you should try:\n",
    "- **Filter size**: Above we used 7x7; this makes pretty pictures but smaller filters may be more efficient\n",
    "- **Number of filters**: Above we used 32 filters. Do more or fewer do better?\n",
    "- **Pooling vs Strided Convolution**: Do you use max pooling or just stride convolutions?\n",
    "- **Batch normalization**: Try adding spatial batch normalization after convolution layers and vanilla batch normalization after affine layers. Do your networks train faster?\n",
    "- **Network architecture**: The network above has two layers of trainable parameters. Can you do better with a deep network? Good architectures to try include:\n",
    "    - [conv-relu-pool]xN -> [affine]xM -> [softmax or SVM]\n",
    "    - [conv-relu-conv-relu-pool]xN -> [affine]xM -> [softmax or SVM]\n",
    "    - [batchnorm-relu-conv]xN -> [affine]xM -> [softmax or SVM]\n",
    "- **Global Average Pooling**: Instead of flattening and then having multiple affine layers, perform convolutions until your image gets small (7x7 or so) and then perform an average pooling operation to get to a 1x1 image picture (1, 1 , Filter#), which is then reshaped into a (Filter#) vector. This is used in [Google's Inception Network](https://arxiv.org/abs/1512.00567) (See Table 1 for their architecture).\n",
    "- **Regularization**: Add l2 weight regularization, or perhaps use Dropout.\n",
    "\n",
    "### Tips for training\n",
    "For each network architecture that you try, you should tune the learning rate and regularization strength. When doing this there are a couple important things to keep in mind:\n",
    "\n",
    "- If the parameters are working well, you should see improvement within a few hundred iterations\n",
    "- Remember the coarse-to-fine approach for hyperparameter tuning: start by testing a large range of hyperparameters for just a few training iterations to find the combinations of parameters that are working at all.\n",
    "- Once you have found some sets of parameters that seem to work, search more finely around these parameters. You may need to train for more epochs.\n",
    "- You should use the validation set for hyperparameter search, and save your test set for evaluating your architecture on the best parameters as selected by the validation set.\n",
    "\n",
    "### Going above and beyond\n",
    "If you are feeling adventurous there are many other features you can implement to try and improve your performance. You are **not required** to implement any of these; however they would be good things to try for extra credit.\n",
    "\n",
    "- Alternative update steps: For the assignment we implemented SGD+momentum, RMSprop, and Adam; you could try alternatives like AdaGrad or AdaDelta.\n",
    "- Alternative activation functions such as leaky ReLU, parametric ReLU, ELU, or MaxOut.\n",
    "- Model ensembles\n",
    "- Data augmentation\n",
    "- New Architectures\n",
    "  - [ResNets](https://arxiv.org/abs/1512.03385) where the input from the previous layer is added to the output.\n",
    "  - [DenseNets](https://arxiv.org/abs/1608.06993) where inputs into previous layers are concatenated together.\n",
    "  - [This blog has an in-depth overview](https://chatbotslife.com/resnets-highwaynets-and-densenets-oh-my-9bb15918ee32)\n",
    "\n",
    "If you do decide to implement something extra, clearly describe it in the \"Extra Credit Description\" cell below.\n",
    "\n",
    "### What we expect\n",
    "At the very least, you should be able to train a ConvNet that gets at least 70% accuracy on the validation set. This is just a lower bound - if you are careful it should be possible to get accuracies much higher than that! Extra credit points will be awarded for particularly high-scoring models or unique approaches.\n",
    "\n",
    "You should use the space below to experiment and train your network. \n",
    "\n",
    "Have fun and happy training!"
   ]
  },
  {
   "cell_type": "code",
   "execution_count": 67,
   "metadata": {
    "collapsed": false
   },
   "outputs": [
    {
     "name": "stdout",
     "output_type": "stream",
     "text": [
      "Starting epoch 1 / 10\n",
      "t = 100, loss = 1.4730\n",
      "t = 200, loss = 1.2813\n",
      "t = 300, loss = 1.3516\n",
      "t = 400, loss = 0.6974\n",
      "t = 500, loss = 0.9351\n",
      "t = 600, loss = 0.7892\n",
      "t = 700, loss = 0.9661\n",
      "Starting epoch 2 / 10\n",
      "t = 100, loss = 0.6709\n",
      "t = 200, loss = 0.7904\n",
      "t = 300, loss = 0.8447\n",
      "t = 400, loss = 0.6305\n",
      "t = 500, loss = 0.6182\n",
      "t = 600, loss = 0.5302\n",
      "t = 700, loss = 0.7393\n",
      "Starting epoch 3 / 10\n",
      "t = 100, loss = 0.4526\n",
      "t = 200, loss = 0.4166\n",
      "t = 300, loss = 0.5494\n",
      "t = 400, loss = 0.5231\n",
      "t = 500, loss = 0.4939\n",
      "t = 600, loss = 0.3586\n",
      "t = 700, loss = 0.5007\n",
      "Starting epoch 4 / 10\n",
      "t = 100, loss = 0.3753\n",
      "t = 200, loss = 0.3064\n",
      "t = 300, loss = 0.4487\n",
      "t = 400, loss = 0.3813\n",
      "t = 500, loss = 0.3832\n",
      "t = 600, loss = 0.3061\n",
      "t = 700, loss = 0.4305\n",
      "Starting epoch 5 / 10\n",
      "t = 100, loss = 0.2228\n",
      "t = 200, loss = 0.3272\n",
      "t = 300, loss = 0.4842\n",
      "t = 400, loss = 0.3169\n",
      "t = 500, loss = 0.2860\n",
      "t = 600, loss = 0.2043\n",
      "t = 700, loss = 0.3714\n",
      "Starting epoch 6 / 10\n",
      "t = 100, loss = 0.1591\n",
      "t = 200, loss = 0.1951\n",
      "t = 300, loss = 0.3056\n",
      "t = 400, loss = 0.1610\n",
      "t = 500, loss = 0.1864\n",
      "t = 600, loss = 0.2032\n",
      "t = 700, loss = 0.2474\n",
      "Starting epoch 7 / 10\n",
      "t = 100, loss = 0.1774\n",
      "t = 200, loss = 0.2624\n",
      "t = 300, loss = 0.2616\n",
      "t = 400, loss = 0.0753\n",
      "t = 500, loss = 0.0817\n",
      "t = 600, loss = 0.1328\n",
      "t = 700, loss = 0.2859\n",
      "Starting epoch 8 / 10\n",
      "t = 100, loss = 0.0740\n",
      "t = 200, loss = 0.1220\n",
      "t = 300, loss = 0.1192\n",
      "t = 400, loss = 0.0959\n",
      "t = 500, loss = 0.1218\n",
      "t = 600, loss = 0.1931\n",
      "t = 700, loss = 0.0962\n",
      "Starting epoch 9 / 10\n",
      "t = 100, loss = 0.1375\n",
      "t = 200, loss = 0.2729\n",
      "t = 300, loss = 0.2559\n",
      "t = 400, loss = 0.0626\n",
      "t = 500, loss = 0.1088\n",
      "t = 600, loss = 0.0307\n",
      "t = 700, loss = 0.1229\n",
      "Starting epoch 10 / 10\n",
      "t = 100, loss = 0.0645\n",
      "t = 200, loss = 0.0818\n",
      "t = 300, loss = 0.0621\n",
      "t = 400, loss = 0.1146\n",
      "t = 500, loss = 0.0505\n",
      "t = 600, loss = 0.0881\n",
      "t = 700, loss = 0.0828\n",
      "Checking accuracy on validation set"
     ]
    },
    {
     "name": "stderr",
     "output_type": "stream",
     "text": [
      "/Users/mha/Projects/study/Stanford/cs231n/assignment2/.env/lib/python3.6/site-packages/ipykernel/__main__.py:13: UserWarning: invalid index of a 0-dim tensor. This will be an error in PyTorch 0.5. Use tensor.item() to convert a 0-dim tensor to a Python number\n",
      "/Users/mha/Projects/study/Stanford/cs231n/assignment2/.env/lib/python3.6/site-packages/ipykernel/__main__.py:28: UserWarning: volatile was removed and now has no effect. Use `with torch.no_grad():` instead.\n"
     ]
    },
    {
     "name": "stdout",
     "output_type": "stream",
     "text": [
      "\n",
      "Got 44477 / 49000 correct (90.77)\n",
      "Checking accuracy on validation set\n",
      "Got 765 / 1000 correct (76.50)\n"
     ]
    }
   ],
   "source": [
    "# Train your model here, and make sure the output of this cell is the accuracy of your best model on the \n",
    "# train, val, and test sets. Here's some code to get you started. The output of this cell should be the training\n",
    "# and validation accuracy on your best model (measured by validation accuracy).\n",
    "\n",
    "model = nn.Sequential( # You fill this in!\n",
    "            nn.Conv2d(3, 256, kernel_size=3, stride=1, padding=1),\n",
    "            nn.ReLU(inplace=True),\n",
    "            nn.BatchNorm2d(256),\n",
    "#             nn.Dropout(p=0.15),\n",
    "            nn.MaxPool2d(2, 2),\n",
    "            nn.Conv2d(256, 256, kernel_size=3, stride=1, padding=1),\n",
    "            nn.ReLU(inplace=True),\n",
    "            nn.BatchNorm2d(256),\n",
    "# #             nn.Dropout(p=0.1),\n",
    "            nn.MaxPool2d(2, 2),\n",
    "            nn.Conv2d(256, 128, kernel_size=3, stride=1, padding=1),\n",
    "            nn.ReLU(inplace=True),\n",
    "            nn.BatchNorm2d(128),\n",
    "# #             nn.Dropout(p=0.1),\n",
    "            nn.MaxPool2d(2, 2),\n",
    "            nn.Conv2d(128, 128, kernel_size=3, stride=1, padding=1),\n",
    "            nn.ReLU(inplace=True),\n",
    "            nn.BatchNorm2d(128),\n",
    "#             nn.Dropout(p=0.1),\n",
    "            nn.MaxPool2d(2, 2),\n",
    "            Flatten(),\n",
    "            nn.Linear(512, 512),\n",
    "            nn.ReLU(inplace=True),\n",
    "            nn.Linear(512, 128),\n",
    "            nn.ReLU(inplace=True),\n",
    "            nn.Linear(128, 10)\n",
    "            )\n",
    "loss_fn = nn.CrossEntropyLoss()\n",
    "optimizer = optim.Adam(model.parameters(), lr=1e-3)\n",
    "\n",
    "train(model, loss_fn, optimizer, num_epochs=10)\n",
    "check_accuracy(model, loader_train)\n",
    "check_accuracy(model, loader_val)"
   ]
  },
  {
   "cell_type": "code",
   "execution_count": 68,
   "metadata": {
    "collapsed": false
   },
   "outputs": [
    {
     "name": "stdout",
     "output_type": "stream",
     "text": [
      "Starting epoch 1 / 20\n",
      "t = 100, loss = 1.4231\n",
      "t = 200, loss = 1.4231\n",
      "t = 300, loss = 1.3113\n",
      "t = 400, loss = 0.7458\n",
      "t = 500, loss = 0.9158\n",
      "t = 600, loss = 0.8834\n",
      "t = 700, loss = 1.0476\n",
      "Starting epoch 2 / 20\n",
      "t = 100, loss = 0.7616\n",
      "t = 200, loss = 0.9592\n",
      "t = 300, loss = 0.9178\n",
      "t = 400, loss = 0.5970\n",
      "t = 500, loss = 0.6724\n",
      "t = 600, loss = 0.7531\n",
      "t = 700, loss = 0.7443\n",
      "Starting epoch 3 / 20\n",
      "t = 100, loss = 0.5943\n",
      "t = 200, loss = 0.7519\n",
      "t = 300, loss = 0.6479\n",
      "t = 400, loss = 0.5351\n",
      "t = 500, loss = 0.5974\n",
      "t = 600, loss = 0.7153\n",
      "t = 700, loss = 0.6065\n",
      "Starting epoch 4 / 20\n",
      "t = 100, loss = 0.4721\n",
      "t = 200, loss = 0.6272\n",
      "t = 300, loss = 0.6749\n",
      "t = 400, loss = 0.3855\n",
      "t = 500, loss = 0.5511\n",
      "t = 600, loss = 0.4645\n",
      "t = 700, loss = 0.4767\n",
      "Starting epoch 5 / 20\n",
      "t = 100, loss = 0.3236\n",
      "t = 200, loss = 0.4736\n",
      "t = 300, loss = 0.6261\n",
      "t = 400, loss = 0.3904\n",
      "t = 500, loss = 0.5261\n",
      "t = 600, loss = 0.4665\n",
      "t = 700, loss = 0.6240\n",
      "Starting epoch 6 / 20\n",
      "t = 100, loss = 0.2969\n",
      "t = 200, loss = 0.3715\n",
      "t = 300, loss = 0.5267\n",
      "t = 400, loss = 0.3128\n",
      "t = 500, loss = 0.4163\n",
      "t = 600, loss = 0.3123\n",
      "t = 700, loss = 0.4343\n",
      "Starting epoch 7 / 20\n",
      "t = 100, loss = 0.2152\n",
      "t = 200, loss = 0.3884\n",
      "t = 300, loss = 0.2927\n",
      "t = 400, loss = 0.2733\n",
      "t = 500, loss = 0.2849\n",
      "t = 600, loss = 0.1729\n",
      "t = 700, loss = 0.3687\n",
      "Starting epoch 8 / 20\n",
      "t = 100, loss = 0.1838\n",
      "t = 200, loss = 0.2897\n",
      "t = 300, loss = 0.3985\n",
      "t = 400, loss = 0.1359\n",
      "t = 500, loss = 0.2556\n",
      "t = 600, loss = 0.1256\n",
      "t = 700, loss = 0.3314\n",
      "Starting epoch 9 / 20\n",
      "t = 100, loss = 0.1606\n",
      "t = 200, loss = 0.3453\n",
      "t = 300, loss = 0.2386\n",
      "t = 400, loss = 0.2421\n",
      "t = 500, loss = 0.2236\n",
      "t = 600, loss = 0.2832\n",
      "t = 700, loss = 0.4413\n",
      "Starting epoch 10 / 20\n",
      "t = 100, loss = 0.1734\n",
      "t = 200, loss = 0.1783\n",
      "t = 300, loss = 0.1709\n",
      "t = 400, loss = 0.3059\n",
      "t = 500, loss = 0.1516\n",
      "t = 600, loss = 0.1136\n",
      "t = 700, loss = 0.2417\n",
      "Starting epoch 11 / 20\n",
      "t = 100, loss = 0.0604\n",
      "t = 200, loss = 0.3030\n",
      "t = 300, loss = 0.2381\n",
      "t = 400, loss = 0.1976\n",
      "t = 500, loss = 0.3269\n",
      "t = 600, loss = 0.1136\n",
      "t = 700, loss = 0.2664\n",
      "Starting epoch 12 / 20\n",
      "t = 100, loss = 0.1819\n",
      "t = 200, loss = 0.1133\n",
      "t = 300, loss = 0.0985\n",
      "t = 400, loss = 0.2622\n",
      "t = 500, loss = 0.0659\n",
      "t = 600, loss = 0.1789\n",
      "t = 700, loss = 0.1365\n",
      "Starting epoch 13 / 20\n",
      "t = 100, loss = 0.1815\n",
      "t = 200, loss = 0.1515\n",
      "t = 300, loss = 0.1415\n",
      "t = 400, loss = 0.1446\n",
      "t = 500, loss = 0.1122\n",
      "t = 600, loss = 0.0827\n",
      "t = 700, loss = 0.2842\n",
      "Starting epoch 14 / 20\n",
      "t = 100, loss = 0.1354\n",
      "t = 200, loss = 0.1053\n",
      "t = 300, loss = 0.2100\n",
      "t = 400, loss = 0.1638\n",
      "t = 500, loss = 0.0744\n",
      "t = 600, loss = 0.1555\n",
      "t = 700, loss = 0.1533\n",
      "Starting epoch 15 / 20\n",
      "t = 100, loss = 0.0300\n",
      "t = 200, loss = 0.0187\n",
      "t = 300, loss = 0.0737\n",
      "t = 400, loss = 0.0803\n",
      "t = 500, loss = 0.0857\n",
      "t = 600, loss = 0.1217\n",
      "t = 700, loss = 0.1436\n",
      "Starting epoch 16 / 20\n",
      "t = 100, loss = 0.1536\n",
      "t = 200, loss = 0.1524\n",
      "t = 300, loss = 0.0795\n",
      "t = 400, loss = 0.1323\n",
      "t = 500, loss = 0.0927\n",
      "t = 600, loss = 0.1395\n",
      "t = 700, loss = 0.1490\n",
      "Starting epoch 17 / 20\n",
      "t = 100, loss = 0.0567\n",
      "t = 200, loss = 0.0920\n",
      "t = 300, loss = 0.1045\n",
      "t = 400, loss = 0.1177\n",
      "t = 500, loss = 0.3577\n",
      "t = 600, loss = 0.0768\n",
      "t = 700, loss = 0.1702\n",
      "Starting epoch 18 / 20\n",
      "t = 100, loss = 0.0228\n",
      "t = 200, loss = 0.1533\n",
      "t = 300, loss = 0.2369\n",
      "t = 400, loss = 0.1401\n",
      "t = 500, loss = 0.1344\n",
      "t = 600, loss = 0.1481\n",
      "t = 700, loss = 0.0610\n",
      "Starting epoch 19 / 20\n",
      "t = 100, loss = 0.0211\n",
      "t = 200, loss = 0.2170\n",
      "t = 300, loss = 0.1087\n",
      "t = 400, loss = 0.0237\n",
      "t = 500, loss = 0.0443\n",
      "t = 600, loss = 0.1120\n",
      "t = 700, loss = 0.1208\n",
      "Starting epoch 20 / 20\n",
      "t = 100, loss = 0.1349\n",
      "t = 200, loss = 0.0861\n",
      "t = 300, loss = 0.0543\n",
      "t = 400, loss = 0.0284\n",
      "t = 500, loss = 0.1330\n",
      "t = 600, loss = 0.1170\n",
      "t = 700, loss = 0.2216\n",
      "Checking accuracy on validation set"
     ]
    },
    {
     "name": "stderr",
     "output_type": "stream",
     "text": [
      "/Users/mha/Projects/study/Stanford/cs231n/assignment2/.env/lib/python3.6/site-packages/ipykernel/__main__.py:13: UserWarning: invalid index of a 0-dim tensor. This will be an error in PyTorch 0.5. Use tensor.item() to convert a 0-dim tensor to a Python number\n",
      "/Users/mha/Projects/study/Stanford/cs231n/assignment2/.env/lib/python3.6/site-packages/ipykernel/__main__.py:28: UserWarning: volatile was removed and now has no effect. Use `with torch.no_grad():` instead.\n"
     ]
    },
    {
     "name": "stdout",
     "output_type": "stream",
     "text": [
      "\n",
      "Got 45410 / 49000 correct (92.67)\n",
      "Checking accuracy on validation set\n",
      "Got 779 / 1000 correct (77.90)\n"
     ]
    }
   ],
   "source": [
    "# Train your model here, and make sure the output of this cell is the accuracy of your best model on the \n",
    "# train, val, and test sets. Here's some code to get you started. The output of this cell should be the training\n",
    "# and validation accuracy on your best model (measured by validation accuracy).\n",
    "\n",
    "model = nn.Sequential( # You fill this in!\n",
    "            nn.Conv2d(3, 256, kernel_size=3, stride=1, padding=1),\n",
    "            nn.ReLU(inplace=True),\n",
    "            nn.BatchNorm2d(256),\n",
    "            nn.Dropout(p=0.35),\n",
    "            nn.MaxPool2d(2, 2),\n",
    "            nn.Conv2d(256, 256, kernel_size=3, stride=1, padding=1),\n",
    "            nn.ReLU(inplace=True),\n",
    "            nn.BatchNorm2d(256),\n",
    "            nn.Dropout(p=0.35),\n",
    "            nn.MaxPool2d(2, 2),\n",
    "            nn.Conv2d(256, 128, kernel_size=3, stride=1, padding=1),\n",
    "            nn.ReLU(inplace=True),\n",
    "            nn.BatchNorm2d(128),\n",
    "            nn.Dropout(p=0.35),\n",
    "            nn.MaxPool2d(2, 2),\n",
    "            nn.Conv2d(128, 128, kernel_size=3, stride=1, padding=1),\n",
    "            nn.ReLU(inplace=True),\n",
    "            nn.BatchNorm2d(128),\n",
    "            nn.Dropout(p=0.35),\n",
    "            nn.MaxPool2d(2, 2),\n",
    "            Flatten(),\n",
    "            nn.Linear(512, 512),\n",
    "            nn.ReLU(inplace=True),\n",
    "            nn.Linear(512, 128),\n",
    "            nn.ReLU(inplace=True),\n",
    "            nn.Linear(128, 10)\n",
    "            )\n",
    "loss_fn = nn.CrossEntropyLoss()\n",
    "optimizer = optim.Adam(model.parameters(), lr=1e-3)\n",
    "\n",
    "train(model, loss_fn, optimizer, num_epochs=20)\n",
    "check_accuracy(model, loader_train)\n",
    "check_accuracy(model, loader_val)"
   ]
  },
  {
   "cell_type": "code",
   "execution_count": 71,
   "metadata": {
    "collapsed": false
   },
   "outputs": [
    {
     "name": "stdout",
     "output_type": "stream",
     "text": [
      "Starting epoch 1 / 25\n",
      "t = 100, loss = 1.5724\n",
      "t = 200, loss = 1.4990\n",
      "t = 300, loss = 1.4435\n",
      "t = 400, loss = 0.9325\n",
      "t = 500, loss = 1.0854\n",
      "t = 600, loss = 0.9419\n",
      "t = 700, loss = 1.3259\n",
      "Starting epoch 2 / 25\n",
      "t = 100, loss = 0.9629\n",
      "t = 200, loss = 1.0144\n",
      "t = 300, loss = 0.8726\n",
      "t = 400, loss = 0.6748\n",
      "t = 500, loss = 0.8736\n",
      "t = 600, loss = 0.8845\n",
      "t = 700, loss = 0.9761\n",
      "Starting epoch 3 / 25\n",
      "t = 100, loss = 0.7341\n",
      "t = 200, loss = 0.7843\n",
      "t = 300, loss = 0.8069\n",
      "t = 400, loss = 0.6285\n",
      "t = 500, loss = 0.7381\n",
      "t = 600, loss = 0.6131\n",
      "t = 700, loss = 0.8801\n",
      "Starting epoch 4 / 25\n",
      "t = 100, loss = 0.6007\n",
      "t = 200, loss = 0.6449\n",
      "t = 300, loss = 0.7341\n",
      "t = 400, loss = 0.6150\n",
      "t = 500, loss = 0.4935\n",
      "t = 600, loss = 0.4810\n",
      "t = 700, loss = 0.8270\n",
      "Starting epoch 5 / 25\n",
      "t = 100, loss = 0.4534\n",
      "t = 200, loss = 0.5905\n",
      "t = 300, loss = 0.5889\n",
      "t = 400, loss = 0.6166\n",
      "t = 500, loss = 0.6519\n",
      "t = 600, loss = 0.4974\n",
      "t = 700, loss = 0.7970\n",
      "Starting epoch 6 / 25\n",
      "t = 100, loss = 0.4282\n",
      "t = 200, loss = 0.4977\n",
      "t = 300, loss = 0.5516\n",
      "t = 400, loss = 0.3735\n",
      "t = 500, loss = 0.5219\n",
      "t = 600, loss = 0.5179\n",
      "t = 700, loss = 0.7401\n",
      "Starting epoch 7 / 25\n",
      "t = 100, loss = 0.4178\n",
      "t = 200, loss = 0.5466\n",
      "t = 300, loss = 0.5829\n",
      "t = 400, loss = 0.4129\n",
      "t = 500, loss = 0.4584\n",
      "t = 600, loss = 0.4113\n",
      "t = 700, loss = 0.4980\n",
      "Starting epoch 8 / 25\n",
      "t = 100, loss = 0.2922\n",
      "t = 200, loss = 0.5510\n",
      "t = 300, loss = 0.6159\n",
      "t = 400, loss = 0.4062\n",
      "t = 500, loss = 0.5105\n",
      "t = 600, loss = 0.4394\n",
      "t = 700, loss = 0.4421\n",
      "Starting epoch 9 / 25\n",
      "t = 100, loss = 0.2616\n",
      "t = 200, loss = 0.4361\n",
      "t = 300, loss = 0.3110\n",
      "t = 400, loss = 0.4408\n",
      "t = 500, loss = 0.4346\n",
      "t = 600, loss = 0.2625\n",
      "t = 700, loss = 0.3123\n",
      "Starting epoch 10 / 25\n",
      "t = 100, loss = 0.4019\n",
      "t = 200, loss = 0.4497\n",
      "t = 300, loss = 0.3545\n",
      "t = 400, loss = 0.4025\n",
      "t = 500, loss = 0.4241\n",
      "t = 600, loss = 0.4128\n",
      "t = 700, loss = 0.5279\n",
      "Starting epoch 11 / 25\n",
      "t = 100, loss = 0.2964\n",
      "t = 200, loss = 0.3442\n",
      "t = 300, loss = 0.3529\n",
      "t = 400, loss = 0.4057\n",
      "t = 500, loss = 0.4135\n",
      "t = 600, loss = 0.2762\n",
      "t = 700, loss = 0.5989\n",
      "Starting epoch 12 / 25\n",
      "t = 100, loss = 0.3367\n",
      "t = 200, loss = 0.3899\n",
      "t = 300, loss = 0.3778\n",
      "t = 400, loss = 0.3482\n",
      "t = 500, loss = 0.3066\n",
      "t = 600, loss = 0.2969\n",
      "t = 700, loss = 0.4341\n",
      "Starting epoch 13 / 25\n",
      "t = 100, loss = 0.1229\n",
      "t = 200, loss = 0.3868\n",
      "t = 300, loss = 0.3557\n",
      "t = 400, loss = 0.2321\n",
      "t = 500, loss = 0.4339\n",
      "t = 600, loss = 0.2271\n",
      "t = 700, loss = 0.3925\n",
      "Starting epoch 14 / 25\n",
      "t = 100, loss = 0.2160\n",
      "t = 200, loss = 0.3082\n",
      "t = 300, loss = 0.4766\n",
      "t = 400, loss = 0.3466\n",
      "t = 500, loss = 0.3116\n",
      "t = 600, loss = 0.2583\n",
      "t = 700, loss = 0.4683\n",
      "Starting epoch 15 / 25\n",
      "t = 100, loss = 0.1848\n",
      "t = 200, loss = 0.3480\n",
      "t = 300, loss = 0.2188\n",
      "t = 400, loss = 0.2259\n",
      "t = 500, loss = 0.2335\n",
      "t = 600, loss = 0.2833\n",
      "t = 700, loss = 0.2952\n",
      "Starting epoch 16 / 25\n",
      "t = 100, loss = 0.3309\n",
      "t = 200, loss = 0.2991\n",
      "t = 300, loss = 0.3207\n",
      "t = 400, loss = 0.1763\n",
      "t = 500, loss = 0.3512\n",
      "t = 600, loss = 0.2659\n",
      "t = 700, loss = 0.6151\n",
      "Starting epoch 17 / 25\n",
      "t = 100, loss = 0.1052\n",
      "t = 200, loss = 0.3482\n",
      "t = 300, loss = 0.3917\n",
      "t = 400, loss = 0.1671\n",
      "t = 500, loss = 0.2458\n",
      "t = 600, loss = 0.1457\n",
      "t = 700, loss = 0.3482\n",
      "Starting epoch 18 / 25\n",
      "t = 100, loss = 0.1999\n",
      "t = 200, loss = 0.2725\n",
      "t = 300, loss = 0.3173\n",
      "t = 400, loss = 0.2540\n",
      "t = 500, loss = 0.3149\n",
      "t = 600, loss = 0.3491\n",
      "t = 700, loss = 0.3124\n",
      "Starting epoch 19 / 25\n",
      "t = 100, loss = 0.2770\n",
      "t = 200, loss = 0.1716\n",
      "t = 300, loss = 0.2271\n",
      "t = 400, loss = 0.1395\n",
      "t = 500, loss = 0.1536\n",
      "t = 600, loss = 0.2262\n",
      "t = 700, loss = 0.2630\n",
      "Starting epoch 20 / 25\n",
      "t = 100, loss = 0.2685\n",
      "t = 200, loss = 0.1455\n",
      "t = 300, loss = 0.2432\n",
      "t = 400, loss = 0.2639\n",
      "t = 500, loss = 0.2175\n",
      "t = 600, loss = 0.1165\n",
      "t = 700, loss = 0.3984\n",
      "Starting epoch 21 / 25\n",
      "t = 100, loss = 0.2764\n",
      "t = 200, loss = 0.2067\n",
      "t = 300, loss = 0.2064\n",
      "t = 400, loss = 0.1245\n",
      "t = 500, loss = 0.2324\n",
      "t = 600, loss = 0.2952\n",
      "t = 700, loss = 0.1788\n",
      "Starting epoch 22 / 25\n",
      "t = 100, loss = 0.1460\n",
      "t = 200, loss = 0.4157\n",
      "t = 300, loss = 0.3581\n",
      "t = 400, loss = 0.2120\n",
      "t = 500, loss = 0.2215\n",
      "t = 600, loss = 0.1870\n",
      "t = 700, loss = 0.3733\n",
      "Starting epoch 23 / 25\n",
      "t = 100, loss = 0.1640\n",
      "t = 200, loss = 0.2780\n",
      "t = 300, loss = 0.1792\n",
      "t = 400, loss = 0.1916\n",
      "t = 500, loss = 0.1836\n",
      "t = 600, loss = 0.1569\n",
      "t = 700, loss = 0.2201\n",
      "Starting epoch 24 / 25\n",
      "t = 100, loss = 0.1469\n",
      "t = 200, loss = 0.1407\n",
      "t = 300, loss = 0.2475\n",
      "t = 400, loss = 0.1742\n",
      "t = 500, loss = 0.0921\n",
      "t = 600, loss = 0.2661\n",
      "t = 700, loss = 0.3323\n",
      "Starting epoch 25 / 25\n",
      "t = 100, loss = 0.0942\n",
      "t = 200, loss = 0.1223\n",
      "t = 300, loss = 0.1902\n",
      "t = 400, loss = 0.1600\n",
      "t = 500, loss = 0.1846\n",
      "t = 600, loss = 0.1467\n",
      "t = 700, loss = 0.3613\n",
      "Checking accuracy on validation set"
     ]
    },
    {
     "name": "stderr",
     "output_type": "stream",
     "text": [
      "/Users/mha/Projects/study/Stanford/cs231n/assignment2/.env/lib/python3.6/site-packages/ipykernel/__main__.py:13: UserWarning: invalid index of a 0-dim tensor. This will be an error in PyTorch 0.5. Use tensor.item() to convert a 0-dim tensor to a Python number\n",
      "/Users/mha/Projects/study/Stanford/cs231n/assignment2/.env/lib/python3.6/site-packages/ipykernel/__main__.py:28: UserWarning: volatile was removed and now has no effect. Use `with torch.no_grad():` instead.\n"
     ]
    },
    {
     "name": "stdout",
     "output_type": "stream",
     "text": [
      "\n",
      "Got 33368 / 49000 correct (68.10)\n",
      "Checking accuracy on validation set\n",
      "Got 616 / 1000 correct (61.60)\n"
     ]
    }
   ],
   "source": [
    "# Train your model here, and make sure the output of this cell is the accuracy of your best model on the \n",
    "# train, val, and test sets. Here's some code to get you started. The output of this cell should be the training\n",
    "# and validation accuracy on your best model (measured by validation accuracy).\n",
    "\n",
    "model = nn.Sequential( # You fill this in!\n",
    "            nn.Conv2d(3, 256, kernel_size=3, stride=1, padding=1),\n",
    "            nn.ReLU(inplace=True),\n",
    "            nn.BatchNorm2d(256),\n",
    "            nn.Dropout(p=0.35),\n",
    "            nn.MaxPool2d(2, 2),\n",
    "            nn.Conv2d(256, 256, kernel_size=3, stride=1, padding=1),\n",
    "            nn.ReLU(inplace=True),\n",
    "            nn.BatchNorm2d(256),\n",
    "            nn.Dropout(p=0.35),\n",
    "            nn.MaxPool2d(2, 2),\n",
    "            nn.Conv2d(256, 128, kernel_size=3, stride=1, padding=1),\n",
    "            nn.ReLU(inplace=True),\n",
    "            nn.BatchNorm2d(128),\n",
    "            nn.Dropout(p=0.35),\n",
    "            nn.MaxPool2d(2, 2),\n",
    "            nn.Conv2d(128, 128, kernel_size=3, stride=1, padding=1),\n",
    "            nn.ReLU(inplace=True),\n",
    "            nn.BatchNorm2d(128),\n",
    "            nn.Dropout(p=0.35),\n",
    "            nn.MaxPool2d(2, 2),\n",
    "            Flatten(),\n",
    "            nn.Linear(512, 512),\n",
    "            nn.ReLU(inplace=True),\n",
    "            nn.Linear(512, 128),\n",
    "            nn.ReLU(inplace=True),\n",
    "            nn.Linear(128, 10)\n",
    "            )\n",
    "loss_fn = nn.CrossEntropyLoss()\n",
    "optimizer = optim.Adam(model.parameters(), lr=1e-3)\n",
    "\n",
    "train(model, loss_fn, optimizer, num_epochs=25)\n",
    "check_accuracy(model, loader_train)\n",
    "check_accuracy(model, loader_val)"
   ]
  },
  {
   "cell_type": "markdown",
   "metadata": {},
   "source": [
    "### Describe what you did \n",
    "\n",
    "In the cell below you should write an explanation of what you did, any additional features that you implemented, and any visualizations or graphs that you make in the process of training and evaluating your network."
   ]
  },
  {
   "cell_type": "markdown",
   "metadata": {},
   "source": [
    "Tell us here!"
   ]
  },
  {
   "cell_type": "markdown",
   "metadata": {},
   "source": [
    "## Test set -- run this only once\n",
    "\n",
    "Now that we've gotten a result we're happy with, we test our final model on the test set (which you should store in best_model).  This would be the score we would achieve on a competition. Think about how this compares to your validation set accuracy."
   ]
  },
  {
   "cell_type": "code",
   "execution_count": null,
   "metadata": {
    "collapsed": true
   },
   "outputs": [],
   "source": [
    "best_model = None\n",
    "check_accuracy(best_model, loader_test)"
   ]
  },
  {
   "cell_type": "markdown",
   "metadata": {},
   "source": [
    "## Going further with PyTorch\n",
    "\n",
    "The next assignment will make heavy use of PyTorch. You might also find it useful for your projects. \n",
    "\n",
    "Here's a nice tutorial by Justin Johnson that shows off some of PyTorch's features, like dynamic graphs and custom NN modules: http://pytorch.org/tutorials/beginner/pytorch_with_examples.html\n",
    "\n",
    "If you're interested in reinforcement learning for your final project, this is a good (more advanced) DQN tutorial in PyTorch: http://pytorch.org/tutorials/intermediate/reinforcement_q_learning.html"
   ]
  }
 ],
 "metadata": {
  "kernelspec": {
   "display_name": "Python 3",
   "language": "python",
   "name": "python3"
  },
  "language_info": {
   "codemirror_mode": {
    "name": "ipython",
    "version": 3
   },
   "file_extension": ".py",
   "mimetype": "text/x-python",
   "name": "python",
   "nbconvert_exporter": "python",
   "pygments_lexer": "ipython3",
   "version": "3.6.5"
  }
 },
 "nbformat": 4,
 "nbformat_minor": 0
}
